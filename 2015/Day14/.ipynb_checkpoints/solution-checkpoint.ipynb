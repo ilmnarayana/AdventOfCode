{
 "cells": [
  {
   "cell_type": "code",
   "execution_count": 1,
   "metadata": {},
   "outputs": [
    {
     "name": "stdout",
     "output_type": "stream",
     "text": [
      "['Dancer can fly 27 km/s for 5 seconds, but then must rest for 132 seconds.', 'Cupid can fly 22 km/s for 2 seconds, but then must rest for 41 seconds.', 'Rudolph can fly 11 km/s for 5 seconds, but then must rest for 48 seconds.', 'Donner can fly 28 km/s for 5 seconds, but then must rest for 134 seconds.', 'Dasher can fly 4 km/s for 16 seconds, but then must rest for 55 seconds.', 'Blitzen can fly 14 km/s for 3 seconds, but then must rest for 38 seconds.', 'Prancer can fly 3 km/s for 21 seconds, but then must rest for 40 seconds.', 'Comet can fly 18 km/s for 6 seconds, but then must rest for 103 seconds.', 'Vixen can fly 18 km/s for 5 seconds, but then must rest for 84 seconds.']\n"
     ]
    }
   ],
   "source": [
    "with open('input.txt', 'r') as file:\n",
    "    ip_lines = file.readlines()\n",
    "\n",
    "ip_lines = [line.strip() for line in ip_lines]\n",
    "print(ip_lines)"
   ]
  },
  {
   "cell_type": "code",
   "execution_count": 2,
   "metadata": {},
   "outputs": [],
   "source": [
    "import re"
   ]
  },
  {
   "cell_type": "code",
   "execution_count": 6,
   "metadata": {},
   "outputs": [],
   "source": [
    "n_seconds = 2503"
   ]
  },
  {
   "cell_type": "code",
   "execution_count": 22,
   "metadata": {},
   "outputs": [],
   "source": [
    "def solution_1(ip_lines, n_seconds):\n",
    "    d_stats = {}\n",
    "    for line in ip_lines:\n",
    "        name = line.split(' ')[0]\n",
    "        d_stats[name] = list(map(int, re.findall('[0-9]+', line)))\n",
    "    \n",
    "    d_laps = {}\n",
    "    for name, stat in d_stats.items():\n",
    "        d_laps[name] = n_seconds//(stat[1]+stat[2])\n",
    "    \n",
    "    d_dist_per_laps = {}\n",
    "    for name, stat in d_stats.items():\n",
    "        d_dist_per_laps[name] = stat[0]*stat[1]\n",
    "    \n",
    "    d_extra_dist = {}\n",
    "    for name, stat in d_stats.items():\n",
    "        d_extra_dist[name] = min(n_seconds%(stat[1]+stat[2]), stat[1])*stat[0]\n",
    "    \n",
    "    max_dist = 0\n",
    "    for name in d_stats:\n",
    "        dist = (d_laps[name] * d_dist_per_laps[name]) + d_extra_dist[name]\n",
    "        max_dist = max(max_dist, dist)\n",
    "    \n",
    "    return max_dist"
   ]
  },
  {
   "cell_type": "code",
   "execution_count": 23,
   "metadata": {},
   "outputs": [
    {
     "data": {
      "text/plain": [
       "2640"
      ]
     },
     "execution_count": 23,
     "metadata": {},
     "output_type": "execute_result"
    }
   ],
   "source": [
    "solution_1(ip_lines, n_seconds)"
   ]
  },
  {
   "cell_type": "code",
   "execution_count": 51,
   "metadata": {},
   "outputs": [],
   "source": [
    "def solution_2(ip_lines, n_seconds):\n",
    "    d_stats = {}\n",
    "    for line in ip_lines:\n",
    "        name = line.split(' ')[0]\n",
    "        d_stats[name] = list(map(int, re.findall('[0-9]+', line)))\n",
    "    \n",
    "    l_reindeers = d_stats.keys()\n",
    "    \n",
    "    d_distances = {reindeer: 0 for reindeer in l_reindeers}\n",
    "    d_scores = {reindeer: 0 for reindeer in l_reindeers}\n",
    "    \n",
    "    for sec in range(1, n_seconds+1):\n",
    "        for rd in l_reindeers:\n",
    "            stat = d_stats[rd]\n",
    "            lap_sec = (sec%(stat[1]+stat[2]))\n",
    "            is_running = (lap_sec <= stat[1]) and (lap_sec > 0)\n",
    "            \n",
    "            if is_running:\n",
    "                d_distances[rd] += stat[0]\n",
    "        \n",
    "        max_dist = 0\n",
    "        for rd in l_reindeers:\n",
    "            max_dist = max(max_dist, d_distances[rd])\n",
    "        \n",
    "        for rd in l_reindeers:\n",
    "            if d_distances[rd] == max_dist:\n",
    "                d_scores[rd] += 1\n",
    "    \n",
    "    max_score = 0\n",
    "    for name, score in d_scores.items():\n",
    "        max_score = max(max_score, score)\n",
    "    \n",
    "    return max_score"
   ]
  },
  {
   "cell_type": "code",
   "execution_count": 52,
   "metadata": {},
   "outputs": [
    {
     "data": {
      "text/plain": [
       "1102"
      ]
     },
     "execution_count": 52,
     "metadata": {},
     "output_type": "execute_result"
    }
   ],
   "source": [
    "solution_2(ip_lines, n_seconds)"
   ]
  },
  {
   "cell_type": "code",
   "execution_count": null,
   "metadata": {},
   "outputs": [],
   "source": []
  }
 ],
 "metadata": {
  "kernelspec": {
   "display_name": "Python 3",
   "language": "python",
   "name": "python3"
  },
  "language_info": {
   "codemirror_mode": {
    "name": "ipython",
    "version": 3
   },
   "file_extension": ".py",
   "mimetype": "text/x-python",
   "name": "python",
   "nbconvert_exporter": "python",
   "pygments_lexer": "ipython3",
   "version": "3.8.3"
  }
 },
 "nbformat": 4,
 "nbformat_minor": 4
}
