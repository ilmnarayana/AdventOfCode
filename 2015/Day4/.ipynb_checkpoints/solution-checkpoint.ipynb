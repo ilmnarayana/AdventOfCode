{
 "cells": [
  {
   "cell_type": "markdown",
   "metadata": {},
   "source": [
    "### Experiment"
   ]
  },
  {
   "cell_type": "code",
   "execution_count": 13,
   "metadata": {},
   "outputs": [
    {
     "name": "stdout",
     "output_type": "stream",
     "text": [
      "The hexadecimal equivalent of hash is : f1e069787ece74531d112559945c6871\n"
     ]
    }
   ],
   "source": [
    "import hashlib\n",
    " \n",
    "# initializing string\n",
    "str2hash = \"GeeksforGeeks\"\n",
    " \n",
    "# encoding GeeksforGeeks using encode()\n",
    "# then sending to md5()\n",
    "result = hashlib.md5(str2hash.encode())\n",
    " \n",
    "# printing the equivalent hexadecimal value.\n",
    "print(\"The hexadecimal equivalent of hash is : \", end =\"\")\n",
    "print(result.hexdigest())"
   ]
  },
  {
   "cell_type": "markdown",
   "metadata": {},
   "source": [
    "### Solution"
   ]
  },
  {
   "cell_type": "code",
   "execution_count": 16,
   "metadata": {},
   "outputs": [],
   "source": [
    "input_str = \"ckczppom\""
   ]
  },
  {
   "cell_type": "code",
   "execution_count": 18,
   "metadata": {},
   "outputs": [],
   "source": [
    "def solution_1(input_str):\n",
    "    ans = 0\n",
    "    hexres = \"xxxxxxxx\"\n",
    "    while not hexres.startswith('00000'):\n",
    "        ans += 1\n",
    "        str2hash = input_str + str(ans)\n",
    "        hexres = hashlib.md5(str2hash.encode()).hexdigest()\n",
    "\n",
    "    return ans"
   ]
  },
  {
   "cell_type": "code",
   "execution_count": 19,
   "metadata": {},
   "outputs": [
    {
     "data": {
      "text/plain": [
       "117946"
      ]
     },
     "execution_count": 19,
     "metadata": {},
     "output_type": "execute_result"
    }
   ],
   "source": [
    "solution_1(input_str)"
   ]
  },
  {
   "cell_type": "code",
   "execution_count": 20,
   "metadata": {},
   "outputs": [],
   "source": [
    "def solution_2(input_str):\n",
    "    ans = 0\n",
    "    hexres = \"xxxxxxxx\"\n",
    "    while not hexres.startswith('000000'):\n",
    "        ans += 1\n",
    "        str2hash = input_str + str(ans)\n",
    "        hexres = hashlib.md5(str2hash.encode()).hexdigest()\n",
    "\n",
    "    return ans"
   ]
  },
  {
   "cell_type": "code",
   "execution_count": 21,
   "metadata": {},
   "outputs": [
    {
     "data": {
      "text/plain": [
       "3938038"
      ]
     },
     "execution_count": 21,
     "metadata": {},
     "output_type": "execute_result"
    }
   ],
   "source": [
    "solution_2(input_str)"
   ]
  },
  {
   "cell_type": "code",
   "execution_count": null,
   "metadata": {},
   "outputs": [],
   "source": []
  }
 ],
 "metadata": {
  "kernelspec": {
   "display_name": "Python 3",
   "language": "python",
   "name": "python3"
  },
  "language_info": {
   "codemirror_mode": {
    "name": "ipython",
    "version": 3
   },
   "file_extension": ".py",
   "mimetype": "text/x-python",
   "name": "python",
   "nbconvert_exporter": "python",
   "pygments_lexer": "ipython3",
   "version": "3.8.3"
  }
 },
 "nbformat": 4,
 "nbformat_minor": 4
}
