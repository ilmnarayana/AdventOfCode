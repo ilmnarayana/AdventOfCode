{
 "cells": [
  {
   "cell_type": "code",
   "execution_count": 1,
   "metadata": {},
   "outputs": [
    {
     "name": "stdout",
     "output_type": "stream",
     "text": [
      "['Alice would lose 57 happiness units by sitting next to Bob.', 'Alice would lose 62 happiness units by sitting next to Carol.', 'Alice would lose 75 happiness units by sitting next to David.', 'Alice would gain 71 happiness units by sitting next to Eric.', 'Alice would lose 22 happiness units by sitting next to Frank.', 'Alice would lose 23 happiness units by sitting next to George.', 'Alice would lose 76 happiness units by sitting next to Mallory.', 'Bob would lose 14 happiness units by sitting next to Alice.', 'Bob would gain 48 happiness units by sitting next to Carol.', 'Bob would gain 89 happiness units by sitting next to David.', 'Bob would gain 86 happiness units by sitting next to Eric.', 'Bob would lose 2 happiness units by sitting next to Frank.', 'Bob would gain 27 happiness units by sitting next to George.', 'Bob would gain 19 happiness units by sitting next to Mallory.', 'Carol would gain 37 happiness units by sitting next to Alice.', 'Carol would gain 45 happiness units by sitting next to Bob.', 'Carol would gain 24 happiness units by sitting next to David.', 'Carol would gain 5 happiness units by sitting next to Eric.', 'Carol would lose 68 happiness units by sitting next to Frank.', 'Carol would lose 25 happiness units by sitting next to George.', 'Carol would gain 30 happiness units by sitting next to Mallory.', 'David would lose 51 happiness units by sitting next to Alice.', 'David would gain 34 happiness units by sitting next to Bob.', 'David would gain 99 happiness units by sitting next to Carol.', 'David would gain 91 happiness units by sitting next to Eric.', 'David would lose 38 happiness units by sitting next to Frank.', 'David would gain 60 happiness units by sitting next to George.', 'David would lose 63 happiness units by sitting next to Mallory.', 'Eric would gain 23 happiness units by sitting next to Alice.', 'Eric would lose 69 happiness units by sitting next to Bob.', 'Eric would lose 33 happiness units by sitting next to Carol.', 'Eric would lose 47 happiness units by sitting next to David.', 'Eric would gain 75 happiness units by sitting next to Frank.', 'Eric would gain 82 happiness units by sitting next to George.', 'Eric would gain 13 happiness units by sitting next to Mallory.', 'Frank would gain 77 happiness units by sitting next to Alice.', 'Frank would gain 27 happiness units by sitting next to Bob.', 'Frank would lose 87 happiness units by sitting next to Carol.', 'Frank would gain 74 happiness units by sitting next to David.', 'Frank would lose 41 happiness units by sitting next to Eric.', 'Frank would lose 99 happiness units by sitting next to George.', 'Frank would gain 26 happiness units by sitting next to Mallory.', 'George would lose 63 happiness units by sitting next to Alice.', 'George would lose 51 happiness units by sitting next to Bob.', 'George would lose 60 happiness units by sitting next to Carol.', 'George would gain 30 happiness units by sitting next to David.', 'George would lose 100 happiness units by sitting next to Eric.', 'George would lose 63 happiness units by sitting next to Frank.', 'George would gain 57 happiness units by sitting next to Mallory.', 'Mallory would lose 71 happiness units by sitting next to Alice.', 'Mallory would lose 28 happiness units by sitting next to Bob.', 'Mallory would lose 10 happiness units by sitting next to Carol.', 'Mallory would gain 44 happiness units by sitting next to David.', 'Mallory would gain 22 happiness units by sitting next to Eric.', 'Mallory would gain 79 happiness units by sitting next to Frank.', 'Mallory would lose 16 happiness units by sitting next to George.']\n"
     ]
    }
   ],
   "source": [
    "with open('input.txt', 'r') as file:\n",
    "    ip_lines = file.readlines()\n",
    "\n",
    "ip_lines = [line.strip() for line in ip_lines]\n",
    "print(ip_lines)"
   ]
  },
  {
   "cell_type": "code",
   "execution_count": 13,
   "metadata": {},
   "outputs": [],
   "source": [
    "import re\n",
    "import itertools"
   ]
  },
  {
   "cell_type": "code",
   "execution_count": 30,
   "metadata": {},
   "outputs": [],
   "source": [
    "def get_happiness(d_happiness, l_order):\n",
    "    res = 0\n",
    "    len_order = len(l_order)\n",
    "    \n",
    "    for ind in range(len_order-1):\n",
    "        res += d_happiness[l_order[ind]][l_order[ind+1]]\n",
    "    \n",
    "    for ind in range(len_order-1, 0, -1):\n",
    "        res += d_happiness[l_order[ind]][l_order[ind-1]]\n",
    "    \n",
    "    res += d_happiness[l_order[0]][l_order[len_order-1]]\n",
    "    res += d_happiness[l_order[len_order-1]][l_order[0]]\n",
    "    \n",
    "    return res"
   ]
  },
  {
   "cell_type": "code",
   "execution_count": 33,
   "metadata": {},
   "outputs": [],
   "source": [
    "def solution_1(ip_lines):\n",
    "    d_happiness = {}\n",
    "    for line in ip_lines:\n",
    "        l_line = line.split(' ')\n",
    "        pers_a = l_line[0]\n",
    "        pers_b = l_line[-1].replace('.', '')\n",
    "        \n",
    "        n_happ = int(re.findall('[0-9]+', line)[0])\n",
    "        if 'lose' in line:\n",
    "            n_happ *= -1\n",
    "        \n",
    "        if pers_a not in d_happiness:\n",
    "            d_happiness[pers_a] = {pers_b: n_happ}\n",
    "        else:\n",
    "            d_happiness[pers_a][pers_b] = n_happ\n",
    "    \n",
    "    l_people = set(d_happiness.keys())\n",
    "    l_people_to_permute = l_people\n",
    "    l_people_to_permute.remove('Alice')\n",
    "    l_permutations = list(itertools.permutations(l_people_to_permute, len(l_people_to_permute)))\n",
    "    \n",
    "    for ind in range(len(l_permutations)):\n",
    "        l_permutations[ind] = ['Alice'] + list(l_permutations[ind])\n",
    "    \n",
    "    max_happ = 0\n",
    "    for perm in l_permutations:\n",
    "        happ = get_happiness(d_happiness, perm)\n",
    "        max_happ = max(max_happ, happ)\n",
    "    \n",
    "    return max_happ"
   ]
  },
  {
   "cell_type": "code",
   "execution_count": 34,
   "metadata": {},
   "outputs": [
    {
     "data": {
      "text/plain": [
       "618"
      ]
     },
     "execution_count": 34,
     "metadata": {},
     "output_type": "execute_result"
    }
   ],
   "source": [
    "solution_1(ip_lines)"
   ]
  },
  {
   "cell_type": "code",
   "execution_count": 35,
   "metadata": {},
   "outputs": [],
   "source": [
    "def solution_2(ip_lines):\n",
    "    d_happiness = {}\n",
    "    for line in ip_lines:\n",
    "        l_line = line.split(' ')\n",
    "        pers_a = l_line[0]\n",
    "        pers_b = l_line[-1].replace('.', '')\n",
    "        \n",
    "        n_happ = int(re.findall('[0-9]+', line)[0])\n",
    "        if 'lose' in line:\n",
    "            n_happ *= -1\n",
    "        \n",
    "        if pers_a not in d_happiness:\n",
    "            d_happiness[pers_a] = {pers_b: n_happ}\n",
    "        else:\n",
    "            d_happiness[pers_a][pers_b] = n_happ\n",
    "    \n",
    "    l_people = set(d_happiness.keys())\n",
    "    for pers in l_people:\n",
    "        d_happiness[pers]['MYSELF'] = 0\n",
    "    d_happiness['MYSELF'] = {pers: 0 for pers in l_people}\n",
    "    \n",
    "    l_people_to_permute = l_people\n",
    "    l_permutations = list(itertools.permutations(l_people_to_permute, len(l_people_to_permute)))\n",
    "    \n",
    "    for ind in range(len(l_permutations)):\n",
    "        l_permutations[ind] = ['MYSELF'] + list(l_permutations[ind])\n",
    "    \n",
    "    max_happ = 0\n",
    "    for perm in l_permutations:\n",
    "        happ = get_happiness(d_happiness, perm)\n",
    "        max_happ = max(max_happ, happ)\n",
    "    \n",
    "    return max_happ"
   ]
  },
  {
   "cell_type": "code",
   "execution_count": 36,
   "metadata": {},
   "outputs": [
    {
     "data": {
      "text/plain": [
       "601"
      ]
     },
     "execution_count": 36,
     "metadata": {},
     "output_type": "execute_result"
    }
   ],
   "source": [
    "solution_2(ip_lines)"
   ]
  },
  {
   "cell_type": "code",
   "execution_count": null,
   "metadata": {},
   "outputs": [],
   "source": []
  }
 ],
 "metadata": {
  "kernelspec": {
   "display_name": "Python 3",
   "language": "python",
   "name": "python3"
  },
  "language_info": {
   "codemirror_mode": {
    "name": "ipython",
    "version": 3
   },
   "file_extension": ".py",
   "mimetype": "text/x-python",
   "name": "python",
   "nbconvert_exporter": "python",
   "pygments_lexer": "ipython3",
   "version": "3.8.3"
  }
 },
 "nbformat": 4,
 "nbformat_minor": 4
}
