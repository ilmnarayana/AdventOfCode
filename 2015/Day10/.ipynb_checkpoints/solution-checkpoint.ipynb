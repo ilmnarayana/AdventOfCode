{
 "cells": [
  {
   "cell_type": "code",
   "execution_count": 33,
   "metadata": {},
   "outputs": [],
   "source": [
    "ip_str = \"1113122113\"\n",
    "n_times = 40"
   ]
  },
  {
   "cell_type": "code",
   "execution_count": 34,
   "metadata": {},
   "outputs": [],
   "source": [
    "def get_next_str(ip_str):\n",
    "    pivot = 0\n",
    "    ind = 1\n",
    "    ch = ip_str[0]\n",
    "    res = \"\"\n",
    "    \n",
    "    while ind < len(ip_str):\n",
    "        if ip_str[ind] != ch:\n",
    "            res += str(ind-pivot)\n",
    "            res += str(ch)\n",
    "            ch = ip_str[ind]\n",
    "            pivot = ind\n",
    "        ind += 1\n",
    "    \n",
    "    res += str(ind-pivot)\n",
    "    res += str(ch)\n",
    "    \n",
    "    return res"
   ]
  },
  {
   "cell_type": "code",
   "execution_count": 35,
   "metadata": {},
   "outputs": [],
   "source": [
    "def solution_1(ip_str, n_times):\n",
    "    ans = ip_str\n",
    "    for i in range(n_times):\n",
    "        ans = get_next_str(ans)\n",
    "    \n",
    "    return len(ans)"
   ]
  },
  {
   "cell_type": "code",
   "execution_count": 36,
   "metadata": {},
   "outputs": [
    {
     "data": {
      "text/plain": [
       "360154"
      ]
     },
     "execution_count": 36,
     "metadata": {},
     "output_type": "execute_result"
    }
   ],
   "source": [
    "solution_1('1113122113', 40)"
   ]
  },
  {
   "cell_type": "code",
   "execution_count": 37,
   "metadata": {},
   "outputs": [
    {
     "data": {
      "text/plain": [
       "5103798"
      ]
     },
     "execution_count": 37,
     "metadata": {},
     "output_type": "execute_result"
    }
   ],
   "source": [
    "solution_1('1113122113', 50)"
   ]
  },
  {
   "cell_type": "code",
   "execution_count": null,
   "metadata": {},
   "outputs": [],
   "source": []
  }
 ],
 "metadata": {
  "kernelspec": {
   "display_name": "Python 3",
   "language": "python",
   "name": "python3"
  },
  "language_info": {
   "codemirror_mode": {
    "name": "ipython",
    "version": 3
   },
   "file_extension": ".py",
   "mimetype": "text/x-python",
   "name": "python",
   "nbconvert_exporter": "python",
   "pygments_lexer": "ipython3",
   "version": "3.8.3"
  }
 },
 "nbformat": 4,
 "nbformat_minor": 4
}
