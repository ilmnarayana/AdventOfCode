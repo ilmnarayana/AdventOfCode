{
 "cells": [
  {
   "cell_type": "code",
   "execution_count": 1,
   "metadata": {},
   "outputs": [],
   "source": [
    "ip_str = \"hepxcrrq\""
   ]
  },
  {
   "cell_type": "code",
   "execution_count": 13,
   "metadata": {},
   "outputs": [],
   "source": [
    "def is_valid_password(ip_str):\n",
    "    l_invlid_ch = ['i', 'o', 'l']\n",
    "    for ch in l_invlid_ch:\n",
    "        if ch in ip_str:\n",
    "            return False\n",
    "    \n",
    "    is_ok = False\n",
    "    for ind in range(len(ip_str)-2):\n",
    "        if ord(ip_str[ind])+1 == ord(ip_str[ind+1]):\n",
    "            if ord(ip_str[ind])+2 == ord(ip_str[ind+2]):\n",
    "                is_ok = True\n",
    "                break\n",
    "    if not is_ok:\n",
    "        return False\n",
    "    \n",
    "    c_repeats = 0\n",
    "    ind = 0\n",
    "    while ind < (len(ip_str)-1):\n",
    "        if ip_str[ind] == ip_str[ind+1]:\n",
    "            c_repeats += 1\n",
    "            ind += 1\n",
    "            if c_repeats > 1:\n",
    "                break\n",
    "        ind += 1\n",
    "    if c_repeats <= 1:\n",
    "        return False\n",
    "    \n",
    "    return True"
   ]
  },
  {
   "cell_type": "code",
   "execution_count": 14,
   "metadata": {},
   "outputs": [],
   "source": [
    "def increment_string(ip_str):\n",
    "    ind = len(ip_str)-1\n",
    "    \n",
    "    while (ind >= 0) and (ip_str[ind] == 'z'):\n",
    "        ind -= 1\n",
    "    \n",
    "    if ind < 0:\n",
    "        return \"a\"*(len(ip_str)+1)\n",
    "    else:\n",
    "        return (ip_str[:ind] + chr(ord(ip_str[ind]) + 1)).ljust(len(ip_str), 'a')"
   ]
  },
  {
   "cell_type": "code",
   "execution_count": 15,
   "metadata": {},
   "outputs": [],
   "source": [
    "def solution_1(ip_str):\n",
    "    ans = increment_string(ip_str)\n",
    "    while not is_valid_password(ans):\n",
    "        ans = increment_string(ans)\n",
    "    \n",
    "    return ans"
   ]
  },
  {
   "cell_type": "code",
   "execution_count": 16,
   "metadata": {},
   "outputs": [
    {
     "data": {
      "text/plain": [
       "'hepxxyzz'"
      ]
     },
     "execution_count": 16,
     "metadata": {},
     "output_type": "execute_result"
    }
   ],
   "source": [
    "solution_1(ip_str)"
   ]
  },
  {
   "cell_type": "code",
   "execution_count": 17,
   "metadata": {},
   "outputs": [
    {
     "data": {
      "text/plain": [
       "'heqaabcc'"
      ]
     },
     "execution_count": 17,
     "metadata": {},
     "output_type": "execute_result"
    }
   ],
   "source": [
    "solution_1('hepxxyzz')"
   ]
  },
  {
   "cell_type": "code",
   "execution_count": null,
   "metadata": {},
   "outputs": [],
   "source": []
  }
 ],
 "metadata": {
  "kernelspec": {
   "display_name": "Python 3",
   "language": "python",
   "name": "python3"
  },
  "language_info": {
   "codemirror_mode": {
    "name": "ipython",
    "version": 3
   },
   "file_extension": ".py",
   "mimetype": "text/x-python",
   "name": "python",
   "nbconvert_exporter": "python",
   "pygments_lexer": "ipython3",
   "version": "3.8.3"
  }
 },
 "nbformat": 4,
 "nbformat_minor": 4
}
