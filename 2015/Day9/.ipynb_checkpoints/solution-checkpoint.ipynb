{
 "cells": [
  {
   "cell_type": "code",
   "execution_count": 31,
   "metadata": {},
   "outputs": [
    {
     "name": "stdout",
     "output_type": "stream",
     "text": [
      "['AlphaCentauri to Snowdin = 66', 'AlphaCentauri to Tambi = 28', 'AlphaCentauri to Faerun = 60', 'AlphaCentauri to Norrath = 34', 'AlphaCentauri to Straylight = 34', 'AlphaCentauri to Tristram = 3', 'AlphaCentauri to Arbre = 108', 'Snowdin to Tambi = 22', 'Snowdin to Faerun = 12', 'Snowdin to Norrath = 91', 'Snowdin to Straylight = 121', 'Snowdin to Tristram = 111', 'Snowdin to Arbre = 71', 'Tambi to Faerun = 39', 'Tambi to Norrath = 113', 'Tambi to Straylight = 130', 'Tambi to Tristram = 35', 'Tambi to Arbre = 40', 'Faerun to Norrath = 63', 'Faerun to Straylight = 21', 'Faerun to Tristram = 57', 'Faerun to Arbre = 83', 'Norrath to Straylight = 9', 'Norrath to Tristram = 50', 'Norrath to Arbre = 60', 'Straylight to Tristram = 27', 'Straylight to Arbre = 81', 'Tristram to Arbre = 90']\n"
     ]
    }
   ],
   "source": [
    "with open('input.txt', 'r') as file:\n",
    "    ip_lines = file.readlines()\n",
    "\n",
    "ip_lines = [line.strip() for line in ip_lines]\n",
    "print(ip_lines)"
   ]
  },
  {
   "cell_type": "code",
   "execution_count": 32,
   "metadata": {},
   "outputs": [],
   "source": [
    "def insert_in_dict(d_map, key, val):\n",
    "    if key in d_map:\n",
    "        d_map[key].append(val)\n",
    "    else:\n",
    "        d_map[key] = [val]\n",
    "\n",
    "def solution_1(l_input):\n",
    "    d_nodes = {}\n",
    "    \n",
    "    for s_input in l_input:\n",
    "        path, dist = map(str.strip, s_input.split('='))\n",
    "        a, b = map(str.lower, map(str.strip, path.split(' to ')))\n",
    "        dist = int(dist)\n",
    "        \n",
    "        insert_in_dict(d_nodes, a, (b, dist))\n",
    "        insert_in_dict(d_nodes, b, (a, dist))\n",
    "    \n",
    "    ans = float('inf')\n",
    "    for node in d_nodes:\n",
    "        min_path = get_shortest_path(d_nodes, node, set_visited=set(), covered_dist=0)\n",
    "        ans = min(ans, min_path)\n",
    "    \n",
    "    return ans"
   ]
  },
  {
   "cell_type": "code",
   "execution_count": 33,
   "metadata": {},
   "outputs": [],
   "source": [
    "def get_shortest_path(d_graph, node, set_visited, covered_dist):\n",
    "    set_visited.add(node)\n",
    "    if len(set_visited) == len(d_graph):\n",
    "        return covered_dist\n",
    "    \n",
    "    min_path = float('inf')\n",
    "    for ch_node, dist in d_graph[node]:\n",
    "        if ch_node in set_visited:\n",
    "            continue\n",
    "        new_path = get_shortest_path(d_graph, ch_node, set_visited, covered_dist+dist)\n",
    "        set_visited.remove(ch_node)\n",
    "        min_path = min(min_path, new_path)\n",
    "    \n",
    "    return min_path"
   ]
  },
  {
   "cell_type": "code",
   "execution_count": 34,
   "metadata": {},
   "outputs": [
    {
     "data": {
      "text/plain": [
       "141"
      ]
     },
     "execution_count": 34,
     "metadata": {},
     "output_type": "execute_result"
    }
   ],
   "source": [
    "solution_1(ip_lines)"
   ]
  },
  {
   "cell_type": "code",
   "execution_count": 35,
   "metadata": {},
   "outputs": [],
   "source": [
    "def solution_2(l_input):\n",
    "    d_nodes = {}\n",
    "    \n",
    "    for s_input in l_input:\n",
    "        path, dist = map(str.strip, s_input.split('='))\n",
    "        a, b = map(str.lower, map(str.strip, path.split(' to ')))\n",
    "        dist = int(dist)\n",
    "        \n",
    "        insert_in_dict(d_nodes, a, (b, dist))\n",
    "        insert_in_dict(d_nodes, b, (a, dist))\n",
    "    \n",
    "    ans = 0\n",
    "    for node in d_nodes:\n",
    "        min_path = get_longest_path(d_nodes, node, set_visited=set(), covered_dist=0)\n",
    "        ans = max(ans, min_path)\n",
    "    \n",
    "    return ans"
   ]
  },
  {
   "cell_type": "code",
   "execution_count": 36,
   "metadata": {},
   "outputs": [],
   "source": [
    "def get_longest_path(d_graph, node, set_visited, covered_dist):\n",
    "    set_visited.add(node)\n",
    "    if len(set_visited) == len(d_graph):\n",
    "        return covered_dist\n",
    "    \n",
    "    min_path = 0\n",
    "    for ch_node, dist in d_graph[node]:\n",
    "        if ch_node in set_visited:\n",
    "            continue\n",
    "        new_path = get_longest_path(d_graph, ch_node, set_visited, covered_dist+dist)\n",
    "        set_visited.remove(ch_node)\n",
    "        min_path = max(min_path, new_path)\n",
    "    \n",
    "    return min_path"
   ]
  },
  {
   "cell_type": "code",
   "execution_count": 37,
   "metadata": {},
   "outputs": [
    {
     "data": {
      "text/plain": [
       "736"
      ]
     },
     "execution_count": 37,
     "metadata": {},
     "output_type": "execute_result"
    }
   ],
   "source": [
    "solution_2(ip_lines)"
   ]
  },
  {
   "cell_type": "code",
   "execution_count": null,
   "metadata": {},
   "outputs": [],
   "source": []
  }
 ],
 "metadata": {
  "kernelspec": {
   "display_name": "Python 3",
   "language": "python",
   "name": "python3"
  },
  "language_info": {
   "codemirror_mode": {
    "name": "ipython",
    "version": 3
   },
   "file_extension": ".py",
   "mimetype": "text/x-python",
   "name": "python",
   "nbconvert_exporter": "python",
   "pygments_lexer": "ipython3",
   "version": "3.8.3"
  }
 },
 "nbformat": 4,
 "nbformat_minor": 4
}
